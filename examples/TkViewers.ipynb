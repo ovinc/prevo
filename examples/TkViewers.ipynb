{
 "cells": [
  {
   "cell_type": "code",
   "execution_count": 1,
   "metadata": {},
   "outputs": [],
   "source": [
    "from prevo.viewers import TkWindow, TkViewer\n",
    "from prevo.misc import PeriodicSensor\n",
    "import numpy as np\n",
    "%matplotlib tk"
   ]
  },
  {
   "cell_type": "markdown",
   "metadata": {},
   "source": [
    "# Dummy camera sensor"
   ]
  },
  {
   "cell_type": "markdown",
   "metadata": {},
   "source": [
    "The section below is just to define a dummy class that mimicks a camera sending images on a queue."
   ]
  },
  {
   "cell_type": "code",
   "execution_count": 2,
   "metadata": {},
   "outputs": [],
   "source": [
    "class LapseCamera(PeriodicSensor):\n",
    "    \"\"\"Mock time-lapse camera returning white-noise images periodically\"\"\"\n",
    "    \n",
    "    name = 'Mock Lapse Camera'\n",
    "    \n",
    "    def __init__(self, *args, **kwargs):\n",
    "        super().__init__(*args, **kwargs)\n",
    "        self.num = 0\n",
    "    \n",
    "    def _read(self):\n",
    "        \"\"\"Return image in a dict (see explanation below)\"\"\"\n",
    "        img = np.random.randint(256, size=(480, 640), dtype='uint8')\n",
    "        data = {'image': img, 'num': self.num}\n",
    "        self.num += 1\n",
    "        return data"
   ]
  },
  {
   "cell_type": "code",
   "execution_count": 3,
   "metadata": {},
   "outputs": [],
   "source": [
    "camera1 = LapseCamera(interval=0.04)\n",
    "camera1.start()\n",
    "\n",
    "camera2 = LapseCamera(interval=2)\n",
    "camera2.start()"
   ]
  },
  {
   "cell_type": "code",
   "execution_count": 4,
   "metadata": {},
   "outputs": [],
   "source": [
    "win1 = TkWindow(camera1.queue, name='Camera 1', show_fps=True)\n",
    "win2 = TkWindow(camera2.queue, name='Camera 2', show_num=True)"
   ]
  },
  {
   "cell_type": "code",
   "execution_count": 5,
   "metadata": {},
   "outputs": [],
   "source": [
    "viewer = TkViewer(windows=(win1, win2))\n",
    "viewer.start()"
   ]
  },
  {
   "cell_type": "code",
   "execution_count": null,
   "metadata": {},
   "outputs": [],
   "source": []
  }
 ],
 "metadata": {
  "kernelspec": {
   "display_name": "Python 3 (ipykernel)",
   "language": "python",
   "name": "python3"
  },
  "language_info": {
   "codemirror_mode": {
    "name": "ipython",
    "version": 3
   },
   "file_extension": ".py",
   "mimetype": "text/x-python",
   "name": "python",
   "nbconvert_exporter": "python",
   "pygments_lexer": "ipython3",
   "version": "3.10.9"
  }
 },
 "nbformat": 4,
 "nbformat_minor": 4
}
