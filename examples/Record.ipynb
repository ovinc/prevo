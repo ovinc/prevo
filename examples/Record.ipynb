{
 "cells": [
  {
   "cell_type": "code",
   "execution_count": 1,
   "metadata": {},
   "outputs": [],
   "source": [
    "from prevo.record import RecordBase, RecordingBase, SensorBase\n",
    "from prevo.csv import RecordingToCsv\n",
    "from prevo.misc import DummyPressureSensor, DummyTemperatureSensor\n",
    "import oclock"
   ]
  },
  {
   "cell_type": "markdown",
   "metadata": {},
   "source": [
    "# Define sensors"
   ]
  },
  {
   "cell_type": "code",
   "execution_count": 2,
   "metadata": {},
   "outputs": [],
   "source": [
    "class Sensor(SensorBase):\n",
    "    \"\"\"Provide methods common to all sensors\"\"\"\n",
    "    \n",
    "    def  _read(self):\n",
    "        # Automatically add time and time uncertainty in data dict\n",
    "        with oclock.measure_time() as data:\n",
    "            measurement = self.device.read()\n",
    "            data['values'] = tuple(measurement.values())\n",
    "        return data"
   ]
  },
  {
   "cell_type": "code",
   "execution_count": 3,
   "metadata": {},
   "outputs": [],
   "source": [
    "class PressureSensor(Sensor):\n",
    "    \n",
    "    name = 'P'\n",
    "    \n",
    "    # This will be the names of columns in the CSV file\n",
    "    # (as can be seen below, time columns are also added automatically)\n",
    "    data_names = 'P1', 'P2', 'P3'\n",
    "    \n",
    "    # data_types is useful only when using live graphs\n",
    "    data_types = 'P (Pa)', 'P (Pa)', 'P (mbar)'\n",
    "    \n",
    "    def __init__(self):\n",
    "        self.device = DummyPressureSensor()\n",
    "\n",
    "\n",
    "class TemperatureSensor(Sensor):\n",
    "    \n",
    "    name = 'T'\n",
    "    data_names = 'T1', 'T2'\n",
    "    data_types = 'T (°C)', 'T (°C)', 'P (mbar)'\n",
    "    \n",
    "    def __init__(self):\n",
    "        self.device = DummyTemperatureSensor()"
   ]
  },
  {
   "cell_type": "code",
   "execution_count": 4,
   "metadata": {},
   "outputs": [
    {
     "data": {
      "text/plain": [
       "{'values': (3170.577111169146, 2339.897274189945, 17.190375310469857),\n",
       " 'time (unix)': 1688746887.72925,\n",
       " 'dt (s)': 8.437491487711668e-06}"
      ]
     },
     "execution_count": 4,
     "metadata": {},
     "output_type": "execute_result"
    }
   ],
   "source": [
    "with PressureSensor() as sensor:\n",
    "    data = sensor.read()\n",
    "data"
   ]
  },
  {
   "cell_type": "code",
   "execution_count": 5,
   "metadata": {},
   "outputs": [
    {
     "data": {
      "text/plain": [
       "{'P': __main__.PressureSensor, 'T': __main__.TemperatureSensor}"
      ]
     },
     "execution_count": 5,
     "metadata": {},
     "output_type": "execute_result"
    }
   ],
   "source": [
    "Sensors = {Sensor.name: Sensor for Sensor in (PressureSensor, TemperatureSensor)}\n",
    "Sensors"
   ]
  },
  {
   "cell_type": "markdown",
   "metadata": {},
   "source": [
    "# Define recordings"
   ]
  },
  {
   "cell_type": "code",
   "execution_count": 6,
   "metadata": {},
   "outputs": [],
   "source": [
    "class Recording(RecordingToCsv, RecordingBase):\n",
    "    \"\"\"Recording class that defines how to read and handle data from sensors.\"\"\"\n",
    "\n",
    "    def __init__(self, name):\n",
    "        \n",
    "        Sensor = Sensors[name]\n",
    "        column_names = ('time (unix)', 'dt (s)') + Sensor.data_names\n",
    "        filename = 'Pressure.tsv' if name == 'P' else 'Temperature.tsv'\n",
    "\n",
    "        RecordingBase.__init__(self, Sensor=Sensors[name], dt=2)\n",
    "        RecordingToCsv.__init__(self, path='data', filename=filename, column_names=column_names)\n",
    "        \n",
    "recordings = {name: Recording(name) for name in ('P', 'T')}"
   ]
  },
  {
   "cell_type": "markdown",
   "metadata": {},
   "source": [
    "# Start recording"
   ]
  },
  {
   "cell_type": "code",
   "execution_count": 7,
   "metadata": {},
   "outputs": [
    {
     "name": "stdout",
     "output_type": "stream",
     "text": [
      "Recording started in folder /Users/olivier.vincent/Python-OV/prevo/examples/data\n"
     ]
    },
    {
     "name": "stdin",
     "output_type": "stream",
     "text": [
      "Type command (help: ?):  ?\n"
     ]
    },
    {
     "name": "stdout",
     "output_type": "stream",
     "text": [
      "OBJECTS ========================================================================\n",
      "--- P [<__main__.Recording object at 0x11c3a5e10>]\n",
      "--- T [<__main__.Recording object at 0x11c3a40d0>]\n",
      "COMMANDS =======================================================================\n",
      "--- Properties\n",
      "--- Events\n",
      "        g, graph -- graph\n",
      "--- Exit\n",
      "        q, Q, quit\n"
     ]
    },
    {
     "name": "stdin",
     "output_type": "stream",
     "text": [
      "Type command (help: ?):  q\n"
     ]
    },
    {
     "name": "stdout",
     "output_type": "stream",
     "text": [
      "CLI stopped\n",
      "Recording Stopped\n"
     ]
    }
   ],
   "source": [
    "class Record(RecordBase):\n",
    "    \"\"\"For simple cases no subclassing is necessary\"\"\"\n",
    "    pass\n",
    "\n",
    "record = Record(recordings, path='data')\n",
    "record.start()"
   ]
  },
  {
   "cell_type": "code",
   "execution_count": null,
   "metadata": {},
   "outputs": [],
   "source": []
  }
 ],
 "metadata": {
  "kernelspec": {
   "display_name": "Python 3 (ipykernel)",
   "language": "python",
   "name": "python3"
  },
  "language_info": {
   "codemirror_mode": {
    "name": "ipython",
    "version": 3
   },
   "file_extension": ".py",
   "mimetype": "text/x-python",
   "name": "python",
   "nbconvert_exporter": "python",
   "pygments_lexer": "ipython3",
   "version": "3.10.9"
  }
 },
 "nbformat": 4,
 "nbformat_minor": 4
}
